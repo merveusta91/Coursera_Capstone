{
 "cells": [
  {
   "cell_type": "markdown",
   "metadata": {},
   "source": [
    "# Segmenting and Clustering Neighborhoods in Atlanta"
   ]
  },
  {
   "cell_type": "markdown",
   "metadata": {},
   "source": [
    "## 1. Introduction/Business Problem "
   ]
  },
  {
   "cell_type": "markdown",
   "metadata": {},
   "source": [
    "An entrepreneur who owns a fast food restaurant wants to open the second branch of his restaurant in Atlanta. Since he wants to increase his profit, he must open his restaurant in a crowded population and in a neighborhood with low competition in this sector.To find a solution, he applies to a consulting firm who can help with this. I work as a data analyst in the information technology department of this company. In this project, I will try to analyze data that I have and find the most effective solution by using the machine learning clustering algorithm which is 'k-means' to solve the problem of our customer. First, in data processing part of this project, I will determine the top 10 most crowded neighborhoods of Atlanta by cleaning my data. Next, I will visualize my data using Folium library and analyze it."
   ]
  },
  {
   "cell_type": "markdown",
   "metadata": {},
   "source": [
    "## 2. Data Section"
   ]
  },
  {
   "cell_type": "markdown",
   "metadata": {},
   "source": [
    "In this section, I will build the code to scrape the Wikipedia page which is https://en.wikipedia.org/wiki/Table_of_Atlanta_neighborhoods_by_population"
   ]
  },
  {
   "cell_type": "code",
   "execution_count": 1,
   "metadata": {},
   "outputs": [
    {
     "name": "stdout",
     "output_type": "stream",
     "text": [
      "Requirement already satisfied: wikipedia in /Users/merveusta/opt/anaconda3/lib/python3.7/site-packages (1.4.0)\n",
      "Requirement already satisfied: requests<3.0.0,>=2.0.0 in /Users/merveusta/opt/anaconda3/lib/python3.7/site-packages (from wikipedia) (2.22.0)\n",
      "Requirement already satisfied: beautifulsoup4 in /Users/merveusta/opt/anaconda3/lib/python3.7/site-packages (from wikipedia) (4.8.2)\n",
      "Requirement already satisfied: chardet<3.1.0,>=3.0.2 in /Users/merveusta/opt/anaconda3/lib/python3.7/site-packages (from requests<3.0.0,>=2.0.0->wikipedia) (3.0.4)\n",
      "Requirement already satisfied: urllib3!=1.25.0,!=1.25.1,<1.26,>=1.21.1 in /Users/merveusta/opt/anaconda3/lib/python3.7/site-packages (from requests<3.0.0,>=2.0.0->wikipedia) (1.25.8)\n",
      "Requirement already satisfied: certifi>=2017.4.17 in /Users/merveusta/opt/anaconda3/lib/python3.7/site-packages (from requests<3.0.0,>=2.0.0->wikipedia) (2019.11.28)\n",
      "Requirement already satisfied: idna<2.9,>=2.5 in /Users/merveusta/opt/anaconda3/lib/python3.7/site-packages (from requests<3.0.0,>=2.0.0->wikipedia) (2.8)\n",
      "Requirement already satisfied: soupsieve>=1.2 in /Users/merveusta/opt/anaconda3/lib/python3.7/site-packages (from beautifulsoup4->wikipedia) (1.9.5)\n",
      "Note: you may need to restart the kernel to use updated packages.\n"
     ]
    }
   ],
   "source": [
    "pip install wikipedia"
   ]
  },
  {
   "cell_type": "markdown",
   "metadata": {},
   "source": [
    "### Tranform the data into a pandas dataframe"
   ]
  },
  {
   "cell_type": "code",
   "execution_count": 2,
   "metadata": {},
   "outputs": [
    {
     "name": "stdout",
     "output_type": "stream",
     "text": [
      "              Neighborhood  Population (2010) NPU\n",
      "0               Adair Park               1331   V\n",
      "1               Adams Park               1763   R\n",
      "2               Adamsville               2403   H\n",
      "3              Almond Park               1020   G\n",
      "4              Ansley Park               2277   E\n",
      "..                     ...                ...  ..\n",
      "156       Westwood Terrace                733   I\n",
      "157  Whittier Mill Village                617   D\n",
      "158               Wildwood               1840   C\n",
      "159    Wilson Mill Meadows               1096   H\n",
      "160       Wisteria Gardens                512   H\n",
      "\n",
      "[161 rows x 3 columns]\n"
     ]
    }
   ],
   "source": [
    "import pandas as pd\n",
    "import wikipedia as wp\n",
    " \n",
    "#Get the html source\n",
    "html = wp.page(\"Table of Atlanta neighborhoods by population\").html().encode(\"UTF-8\")\n",
    "neighborhoods_Atlanta = pd.read_html(html)[0]\n",
    "neighborhoods_Atlanta.to_csv('beautifulsoup_pandas.csv',header=0,index=False)\n",
    "print (neighborhoods_Atlanta)"
   ]
  },
  {
   "cell_type": "code",
   "execution_count": 3,
   "metadata": {
    "scrolled": true
   },
   "outputs": [
    {
     "data": {
      "text/html": [
       "<div>\n",
       "<style scoped>\n",
       "    .dataframe tbody tr th:only-of-type {\n",
       "        vertical-align: middle;\n",
       "    }\n",
       "\n",
       "    .dataframe tbody tr th {\n",
       "        vertical-align: top;\n",
       "    }\n",
       "\n",
       "    .dataframe thead th {\n",
       "        text-align: right;\n",
       "    }\n",
       "</style>\n",
       "<table border=\"1\" class=\"dataframe\">\n",
       "  <thead>\n",
       "    <tr style=\"text-align: right;\">\n",
       "      <th></th>\n",
       "      <th>Neighborhood</th>\n",
       "      <th>Population (2010)</th>\n",
       "      <th>NPU</th>\n",
       "    </tr>\n",
       "  </thead>\n",
       "  <tbody>\n",
       "    <tr>\n",
       "      <th>0</th>\n",
       "      <td>Adair Park</td>\n",
       "      <td>1331</td>\n",
       "      <td>V</td>\n",
       "    </tr>\n",
       "    <tr>\n",
       "      <th>1</th>\n",
       "      <td>Adams Park</td>\n",
       "      <td>1763</td>\n",
       "      <td>R</td>\n",
       "    </tr>\n",
       "    <tr>\n",
       "      <th>2</th>\n",
       "      <td>Adamsville</td>\n",
       "      <td>2403</td>\n",
       "      <td>H</td>\n",
       "    </tr>\n",
       "    <tr>\n",
       "      <th>3</th>\n",
       "      <td>Almond Park</td>\n",
       "      <td>1020</td>\n",
       "      <td>G</td>\n",
       "    </tr>\n",
       "    <tr>\n",
       "      <th>4</th>\n",
       "      <td>Ansley Park</td>\n",
       "      <td>2277</td>\n",
       "      <td>E</td>\n",
       "    </tr>\n",
       "    <tr>\n",
       "      <th>5</th>\n",
       "      <td>Ardmore</td>\n",
       "      <td>756</td>\n",
       "      <td>E</td>\n",
       "    </tr>\n",
       "    <tr>\n",
       "      <th>6</th>\n",
       "      <td>Argonne Forest</td>\n",
       "      <td>590</td>\n",
       "      <td>C</td>\n",
       "    </tr>\n",
       "    <tr>\n",
       "      <th>7</th>\n",
       "      <td>Arlington Estates</td>\n",
       "      <td>776</td>\n",
       "      <td>P</td>\n",
       "    </tr>\n",
       "    <tr>\n",
       "      <th>8</th>\n",
       "      <td>Ashview Heights</td>\n",
       "      <td>1292</td>\n",
       "      <td>T</td>\n",
       "    </tr>\n",
       "    <tr>\n",
       "      <th>9</th>\n",
       "      <td>Atlanta University Center</td>\n",
       "      <td>5703</td>\n",
       "      <td>T</td>\n",
       "    </tr>\n",
       "  </tbody>\n",
       "</table>\n",
       "</div>"
      ],
      "text/plain": [
       "                Neighborhood  Population (2010) NPU\n",
       "0                 Adair Park               1331   V\n",
       "1                 Adams Park               1763   R\n",
       "2                 Adamsville               2403   H\n",
       "3                Almond Park               1020   G\n",
       "4                Ansley Park               2277   E\n",
       "5                    Ardmore                756   E\n",
       "6             Argonne Forest                590   C\n",
       "7          Arlington Estates                776   P\n",
       "8            Ashview Heights               1292   T\n",
       "9  Atlanta University Center               5703   T"
      ]
     },
     "execution_count": 3,
     "metadata": {},
     "output_type": "execute_result"
    }
   ],
   "source": [
    "neighborhoods_Atlanta.head(10)"
   ]
  },
  {
   "cell_type": "markdown",
   "metadata": {},
   "source": [
    "I will remove the column which is 'NPU' using 'drop' function because I don't need this information. "
   ]
  },
  {
   "cell_type": "code",
   "execution_count": 4,
   "metadata": {},
   "outputs": [],
   "source": [
    "neighborhoods_Atlanta.drop(['NPU'], axis=1,inplace= True)"
   ]
  },
  {
   "cell_type": "code",
   "execution_count": 5,
   "metadata": {},
   "outputs": [
    {
     "name": "stdout",
     "output_type": "stream",
     "text": [
      "Neighborhood is OK, none of its values is doubled\n"
     ]
    }
   ],
   "source": [
    "doubled = neighborhoods_Atlanta['Neighborhood'].unique().shape\n",
    "if (neighborhoods_Atlanta.shape[0]==doubled[0]):\n",
    "     print ('Neighborhood is OK, none of its values is doubled')\n",
    "else:\n",
    "     print ('some incongruences found, please check consistency')"
   ]
  },
  {
   "cell_type": "code",
   "execution_count": 6,
   "metadata": {},
   "outputs": [
    {
     "data": {
      "text/plain": [
       "(161, 2)"
      ]
     },
     "execution_count": 6,
     "metadata": {},
     "output_type": "execute_result"
    }
   ],
   "source": [
    "neighborhoods_Atlanta.shape"
   ]
  },
  {
   "cell_type": "markdown",
   "metadata": {},
   "source": [
    "I need to top 10 crowded neighborhoods of Atlanta.So I will sort my neighborhood data by population."
   ]
  },
  {
   "cell_type": "code",
   "execution_count": 7,
   "metadata": {},
   "outputs": [],
   "source": [
    "neighborhoods_Atlanta_firstten=neighborhoods_Atlanta.sort_values(by='Population (2010)', ascending=False)"
   ]
  },
  {
   "cell_type": "code",
   "execution_count": 8,
   "metadata": {
    "scrolled": true
   },
   "outputs": [
    {
     "data": {
      "text/html": [
       "<div>\n",
       "<style scoped>\n",
       "    .dataframe tbody tr th:only-of-type {\n",
       "        vertical-align: middle;\n",
       "    }\n",
       "\n",
       "    .dataframe tbody tr th {\n",
       "        vertical-align: top;\n",
       "    }\n",
       "\n",
       "    .dataframe thead th {\n",
       "        text-align: right;\n",
       "    }\n",
       "</style>\n",
       "<table border=\"1\" class=\"dataframe\">\n",
       "  <thead>\n",
       "    <tr style=\"text-align: right;\">\n",
       "      <th></th>\n",
       "      <th>Neighborhood</th>\n",
       "      <th>Population (2010)</th>\n",
       "    </tr>\n",
       "  </thead>\n",
       "  <tbody>\n",
       "    <tr>\n",
       "      <th>95</th>\n",
       "      <td>Midtown</td>\n",
       "      <td>16569</td>\n",
       "    </tr>\n",
       "    <tr>\n",
       "      <th>51</th>\n",
       "      <td>Downtown</td>\n",
       "      <td>13411</td>\n",
       "    </tr>\n",
       "    <tr>\n",
       "      <th>104</th>\n",
       "      <td>Old Fourth Ward</td>\n",
       "      <td>10505</td>\n",
       "    </tr>\n",
       "    <tr>\n",
       "      <th>101</th>\n",
       "      <td>North Buckhead</td>\n",
       "      <td>8270</td>\n",
       "    </tr>\n",
       "    <tr>\n",
       "      <th>119</th>\n",
       "      <td>Pine Hills</td>\n",
       "      <td>8033</td>\n",
       "    </tr>\n",
       "    <tr>\n",
       "      <th>98</th>\n",
       "      <td>Morningside/Lenox Park</td>\n",
       "      <td>8030</td>\n",
       "    </tr>\n",
       "    <tr>\n",
       "      <th>149</th>\n",
       "      <td>Virginia-Highland</td>\n",
       "      <td>7800</td>\n",
       "    </tr>\n",
       "    <tr>\n",
       "      <th>66</th>\n",
       "      <td>Grant Park</td>\n",
       "      <td>6771</td>\n",
       "    </tr>\n",
       "    <tr>\n",
       "      <th>64</th>\n",
       "      <td>Georgia Tech</td>\n",
       "      <td>6607</td>\n",
       "    </tr>\n",
       "    <tr>\n",
       "      <th>80</th>\n",
       "      <td>Kirkwood</td>\n",
       "      <td>5897</td>\n",
       "    </tr>\n",
       "  </tbody>\n",
       "</table>\n",
       "</div>"
      ],
      "text/plain": [
       "               Neighborhood  Population (2010)\n",
       "95                  Midtown              16569\n",
       "51                 Downtown              13411\n",
       "104         Old Fourth Ward              10505\n",
       "101          North Buckhead               8270\n",
       "119              Pine Hills               8033\n",
       "98   Morningside/Lenox Park               8030\n",
       "149       Virginia-Highland               7800\n",
       "66               Grant Park               6771\n",
       "64             Georgia Tech               6607\n",
       "80                 Kirkwood               5897"
      ]
     },
     "execution_count": 8,
     "metadata": {},
     "output_type": "execute_result"
    }
   ],
   "source": [
    "neighborhoods_Atlanta_firstten.head(10)"
   ]
  },
  {
   "cell_type": "markdown",
   "metadata": {},
   "source": [
    "I manually created csv file for top 10 crowded neighborhoods with coordinates."
   ]
  },
  {
   "cell_type": "code",
   "execution_count": 9,
   "metadata": {},
   "outputs": [
    {
     "name": "stdout",
     "output_type": "stream",
     "text": [
      "             Neighborhood  Population (2010)   Latitude  Longitude\n",
      "0                 Midtown              16569  33.783020 -84.382332\n",
      "1                Downtown              13411  33.921520 -84.381912\n",
      "2         Old Fourth Ward              10505  33.766430 -84.370407\n",
      "3          North Buckhead               8270  33.852700 -84.365400\n",
      "4              Pine Hills               8033  33.838715 -84.350830\n",
      "5  Morningside/Lenox Park               8030  33.796200 -84.359500\n",
      "6       Virginia-Highland               7800  33.781700 -84.363500\n",
      "7              Grant Park               6771  33.737200 -84.368200\n",
      "8            Georgia Tech               6607  33.775600 -84.396300\n",
      "9                Kirkwood               5897  33.753300 -84.326200\n"
     ]
    }
   ],
   "source": [
    "import pandas\n",
    "df_coordinates= pandas.read_csv('neigborhoods_atlanta_coordinates.csv')\n",
    "print(df_coordinates)"
   ]
  },
  {
   "cell_type": "code",
   "execution_count": 10,
   "metadata": {},
   "outputs": [
    {
     "data": {
      "text/html": [
       "<div>\n",
       "<style scoped>\n",
       "    .dataframe tbody tr th:only-of-type {\n",
       "        vertical-align: middle;\n",
       "    }\n",
       "\n",
       "    .dataframe tbody tr th {\n",
       "        vertical-align: top;\n",
       "    }\n",
       "\n",
       "    .dataframe thead th {\n",
       "        text-align: right;\n",
       "    }\n",
       "</style>\n",
       "<table border=\"1\" class=\"dataframe\">\n",
       "  <thead>\n",
       "    <tr style=\"text-align: right;\">\n",
       "      <th></th>\n",
       "      <th>Neighborhood</th>\n",
       "      <th>Population (2010)</th>\n",
       "      <th>Latitude</th>\n",
       "      <th>Longitude</th>\n",
       "    </tr>\n",
       "  </thead>\n",
       "  <tbody>\n",
       "    <tr>\n",
       "      <th>0</th>\n",
       "      <td>Midtown</td>\n",
       "      <td>16569</td>\n",
       "      <td>33.783020</td>\n",
       "      <td>-84.382332</td>\n",
       "    </tr>\n",
       "    <tr>\n",
       "      <th>1</th>\n",
       "      <td>Downtown</td>\n",
       "      <td>13411</td>\n",
       "      <td>33.921520</td>\n",
       "      <td>-84.381912</td>\n",
       "    </tr>\n",
       "    <tr>\n",
       "      <th>2</th>\n",
       "      <td>Old Fourth Ward</td>\n",
       "      <td>10505</td>\n",
       "      <td>33.766430</td>\n",
       "      <td>-84.370407</td>\n",
       "    </tr>\n",
       "    <tr>\n",
       "      <th>3</th>\n",
       "      <td>North Buckhead</td>\n",
       "      <td>8270</td>\n",
       "      <td>33.852700</td>\n",
       "      <td>-84.365400</td>\n",
       "    </tr>\n",
       "    <tr>\n",
       "      <th>4</th>\n",
       "      <td>Pine Hills</td>\n",
       "      <td>8033</td>\n",
       "      <td>33.838715</td>\n",
       "      <td>-84.350830</td>\n",
       "    </tr>\n",
       "    <tr>\n",
       "      <th>5</th>\n",
       "      <td>Morningside/Lenox Park</td>\n",
       "      <td>8030</td>\n",
       "      <td>33.796200</td>\n",
       "      <td>-84.359500</td>\n",
       "    </tr>\n",
       "    <tr>\n",
       "      <th>6</th>\n",
       "      <td>Virginia-Highland</td>\n",
       "      <td>7800</td>\n",
       "      <td>33.781700</td>\n",
       "      <td>-84.363500</td>\n",
       "    </tr>\n",
       "    <tr>\n",
       "      <th>7</th>\n",
       "      <td>Grant Park</td>\n",
       "      <td>6771</td>\n",
       "      <td>33.737200</td>\n",
       "      <td>-84.368200</td>\n",
       "    </tr>\n",
       "    <tr>\n",
       "      <th>8</th>\n",
       "      <td>Georgia Tech</td>\n",
       "      <td>6607</td>\n",
       "      <td>33.775600</td>\n",
       "      <td>-84.396300</td>\n",
       "    </tr>\n",
       "    <tr>\n",
       "      <th>9</th>\n",
       "      <td>Kirkwood</td>\n",
       "      <td>5897</td>\n",
       "      <td>33.753300</td>\n",
       "      <td>-84.326200</td>\n",
       "    </tr>\n",
       "  </tbody>\n",
       "</table>\n",
       "</div>"
      ],
      "text/plain": [
       "             Neighborhood  Population (2010)   Latitude  Longitude\n",
       "0                 Midtown              16569  33.783020 -84.382332\n",
       "1                Downtown              13411  33.921520 -84.381912\n",
       "2         Old Fourth Ward              10505  33.766430 -84.370407\n",
       "3          North Buckhead               8270  33.852700 -84.365400\n",
       "4              Pine Hills               8033  33.838715 -84.350830\n",
       "5  Morningside/Lenox Park               8030  33.796200 -84.359500\n",
       "6       Virginia-Highland               7800  33.781700 -84.363500\n",
       "7              Grant Park               6771  33.737200 -84.368200\n",
       "8            Georgia Tech               6607  33.775600 -84.396300\n",
       "9                Kirkwood               5897  33.753300 -84.326200"
      ]
     },
     "execution_count": 10,
     "metadata": {},
     "output_type": "execute_result"
    }
   ],
   "source": [
    "df_coordinates.head(10)"
   ]
  },
  {
   "cell_type": "markdown",
   "metadata": {},
   "source": [
    "By processing the data, I gathered the data I needed in a table and made it ready for visualization and analysis. In the methodology section, I will make more detailed inferences using this data frame."
   ]
  },
  {
   "cell_type": "code",
   "execution_count": null,
   "metadata": {},
   "outputs": [],
   "source": []
  }
 ],
 "metadata": {
  "kernelspec": {
   "display_name": "Python 3",
   "language": "python",
   "name": "python3"
  },
  "language_info": {
   "codemirror_mode": {
    "name": "ipython",
    "version": 3
   },
   "file_extension": ".py",
   "mimetype": "text/x-python",
   "name": "python",
   "nbconvert_exporter": "python",
   "pygments_lexer": "ipython3",
   "version": "3.7.6"
  }
 },
 "nbformat": 4,
 "nbformat_minor": 4
}
